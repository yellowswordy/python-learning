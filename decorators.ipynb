{
 "cells": [
  {
   "cell_type": "markdown",
   "metadata": {},
   "source": [
    "# Decorators in Python\n",
    "In Python, functions are the first class objects, which means that –\n",
    "- Functions are objects; they can be referenced to, passed to a variable and returned from other functions as well.\n",
    "- Functions can be defined inside another function and can also be passed as argument to another function.\n",
    "Decorators are very powerful and useful tool in Python since it allows programmers to modify the behavior of function or class. Decorators allow us to wrap another function in order to extend the behavior of wrapped function, without permanently modifying it.\n",
    "\n",
    "In Decorators, functions are taken as the argument into another function and then called inside the wrapper function.\n",
    "To better understand <b>decorators</b>  first need "
   ]
  },
  {
   "cell_type": "code",
   "execution_count": 6,
   "metadata": {},
   "outputs": [
    {
     "name": "stdout",
     "output_type": "stream",
     "text": [
      "wrapper executed this before display\n",
      "display function run\n"
     ]
    }
   ],
   "source": [
    "# simple decorator\n",
    "def decorator_function(original_function):\n",
    "    def wrapper_function():\n",
    "        print(\"wrapper executed this before {}\".format(original_function.__name__))\n",
    "        return original_function()\n",
    "    return wrapper_function\n",
    "\n",
    "@decorator_function\n",
    "def display():\n",
    "    print('display function run')\n",
    "    \n",
    "# display = decorator_function(display) this actually equal @decorator_function\n",
    "display()\n"
   ]
  },
  {
   "cell_type": "markdown",
   "metadata": {},
   "source": [
    "Decorating function allows us to add functionality to existent function"
   ]
  },
  {
   "cell_type": "code",
   "execution_count": 12,
   "metadata": {},
   "outputs": [],
   "source": [
    "def decorator_function(original_function):\n",
    "    def wrapper_function(*args, **kwargs):\n",
    "        print(\"wrapper executed this before {}\".format(original_function.__name__))\n",
    "        return original_function(*args, **kwargs)\n",
    "    return wrapper_function\n",
    "\n",
    "@decorator_function\n",
    "def display_info(name, age):\n",
    "    print('display_info ran with arguments({}, {})'.format(name, age))"
   ]
  },
  {
   "cell_type": "code",
   "execution_count": 13,
   "metadata": {},
   "outputs": [
    {
     "name": "stdout",
     "output_type": "stream",
     "text": [
      "wrapper executed this before display_info\n",
      "display_info ran with arguments(john, 23)\n"
     ]
    }
   ],
   "source": [
    "display_info('john', 23)"
   ]
  },
  {
   "cell_type": "code",
   "execution_count": 14,
   "metadata": {},
   "outputs": [
    {
     "name": "stdout",
     "output_type": "stream",
     "text": [
      "wrapper executed this before display\n",
      "display function run\n"
     ]
    }
   ],
   "source": [
    "display()"
   ]
  },
  {
   "cell_type": "code",
   "execution_count": 20,
   "metadata": {},
   "outputs": [],
   "source": [
    "# Class decorator\n",
    "class decorator_class(object):\n",
    "    \n",
    "    def __init__(self, original_function):\n",
    "        self.original_function = original_function\n",
    "        \n",
    "    def __call__(self, *args, **kwargs):\n",
    "            print(\"the call method executed executed this before {}\".format(self.original_function.__name__))\n",
    "            return self.original_function(*args, **kwargs)\n",
    "    \n",
    "@decorator_class\n",
    "def display_info(name, age):\n",
    "    print('display_info ran with arguments({}, {})'.format(name, age))"
   ]
  },
  {
   "cell_type": "code",
   "execution_count": 27,
   "metadata": {},
   "outputs": [
    {
     "name": "stdout",
     "output_type": "stream",
     "text": [
      "the call method executed executed this before display_info\n",
      "display_info ran with arguments(Kit, 32)\n"
     ]
    }
   ],
   "source": [
    "display_info(\"Kit\", 32)"
   ]
  },
  {
   "cell_type": "markdown",
   "metadata": {},
   "source": [
    "# Practical examples"
   ]
  },
  {
   "cell_type": "code",
   "execution_count": 52,
   "metadata": {},
   "outputs": [],
   "source": [
    "from functools import wraps\n",
    "# logger\n",
    "import logging\n",
    "def my_logger(orig_func):\n",
    "    logging.basicConfig(filename='{}.log'.format(orig_func.__name__), level=logging.INFO)\n",
    "    @wraps(orig_func)\n",
    "    def wrapper(*args, **kwargs):\n",
    "        logging.info(\"Ran with args: {}, and kwargs: {}\".format(args, kwargs))\n",
    "        return(orig_func(*args, **kwargs))\n",
    "    return wrapper\n",
    "\n",
    "    "
   ]
  },
  {
   "cell_type": "code",
   "execution_count": 53,
   "metadata": {},
   "outputs": [],
   "source": [
    "# time some function execution\n",
    "import time\n",
    "def my_timer(orig_func):\n",
    "    @wraps(orig_func)\n",
    "    def wrapper(*args, **kwargs):\n",
    "        t1 = time.time()\n",
    "        result = orig_func(*args, **kwargs)\n",
    "        t2 = t1 - time.time()\n",
    "        print('{} ran in: {} sec'. format(orig_func.__name__,t2) )\n",
    "        return result\n",
    "    return wrapper"
   ]
  },
  {
   "cell_type": "code",
   "execution_count": 54,
   "metadata": {},
   "outputs": [
    {
     "name": "stdout",
     "output_type": "stream",
     "text": [
      "display_info ran with arguments(Kit, 32)\n"
     ]
    }
   ],
   "source": [
    "from functools import wraps\n",
    "@my_logger\n",
    "def display_info(name, age):\n",
    "    print('display_info ran with arguments({}, {})'.format(name, age)) \n",
    "    \n",
    "display_info(\"Kit\", 32)"
   ]
  },
  {
   "cell_type": "code",
   "execution_count": 55,
   "metadata": {},
   "outputs": [
    {
     "name": "stdout",
     "output_type": "stream",
     "text": [
      "display_info ran with arguments(Kit, 32)\n",
      "display_info ran in: -1.0009887218475342 sec\n"
     ]
    }
   ],
   "source": [
    "@my_timer\n",
    "def display_info(name, age):\n",
    "    time.sleep(1)\n",
    "    print('display_info ran with arguments({}, {})'.format(name, age)) \n",
    "    \n",
    "display_info(\"Kit\", 32)"
   ]
  },
  {
   "cell_type": "markdown",
   "metadata": {},
   "source": [
    "Chaining two decorators can produce some unexpected outcome"
   ]
  },
  {
   "cell_type": "code",
   "execution_count": 58,
   "metadata": {},
   "outputs": [
    {
     "name": "stdout",
     "output_type": "stream",
     "text": [
      "display_info ran with arguments(SHU, 32)\n",
      "display_info ran in: -1.0004909038543701 sec\n",
      "display_info\n"
     ]
    }
   ],
   "source": [
    "@my_logger# this will be executed last\n",
    "@my_timer# this will be executed first\n",
    "def display_info(name, age):\n",
    "    time.sleep(1)\n",
    "    print('display_info ran with arguments({}, {})'.format(name, age)) \n",
    "    \n",
    "display_info(\"SHU\", 32)\n",
    "# it's equla to display_info = my_logger(my_timer(display_info))\n",
    "display_info = my_timer(display_info)\n",
    "print(display_info.__name__)"
   ]
  },
  {
   "cell_type": "code",
   "execution_count": null,
   "metadata": {},
   "outputs": [],
   "source": []
  },
  {
   "cell_type": "code",
   "execution_count": null,
   "metadata": {},
   "outputs": [],
   "source": []
  }
 ],
 "metadata": {
  "kernelspec": {
   "display_name": "Python 3",
   "language": "python",
   "name": "python3"
  },
  "language_info": {
   "codemirror_mode": {
    "name": "ipython",
    "version": 3
   },
   "file_extension": ".py",
   "mimetype": "text/x-python",
   "name": "python",
   "nbconvert_exporter": "python",
   "pygments_lexer": "ipython3",
   "version": "3.7.2"
  }
 },
 "nbformat": 4,
 "nbformat_minor": 2
}
